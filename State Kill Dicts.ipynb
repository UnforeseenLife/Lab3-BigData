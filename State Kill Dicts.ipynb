{
 "cells": [
  {
   "cell_type": "code",
   "execution_count": 10,
   "metadata": {
    "collapsed": false
   },
   "outputs": [
    {
     "name": "stdout",
     "output_type": "stream",
     "text": [
      "Black kills by state: {'WA': 11, 'NM': 3, 'PN': 1, 'WY': 0, 'OK': 35, 'OR': 3, 'TX': 92, 'IA': 3, 'TN': 21, 'PA': 29, 'LA': 44, 'UT': 3, 'CA': 115, 'ME': 0, 'ND': 0, 'DC': 19, 'SD': 0, 'NC': 51, 'MO': 41, 'AK': 2, 'IN': 24, 'MI': 27, 'MT': 0, 'WV': 4, 'MS': 20, 'NJ': 30, 'HI': 1, 'VA': 31, 'OH': 52, 'DE': 4, 'SC': 24, 'IL': 55, 'CT': 4, 'KY': 11, 'RI': 2, 'NY': 53, 'ID': 0, 'GA': 51, 'FL': 125, 'WI': 15, 'KS': 9, 'AR': 9, 'AL': 36, 'NV': 9, 'NH': 0, 'MA': 12, 'MN': 11, 'AZ': 15, 'VT': 0, 'MD': 56, 'CO': 10, 'NE': 6}\n",
      "Other kills by state {'WA': 96, 'NM': 73, 'IA': 22, 'NC': 79, 'OR': 62, 'NV': 55, 'WY': 14, 'TN': 68, 'PA': 70, 'LA': 44, 'UT': 39, 'OK': 72, 'ME': 15, 'ND': 6, 'IL': 60, 'SD': 13, 'CA': 601, 'MO': 59, 'AK': 15, 'IN': 44, 'DC': 1, 'MI': 48, 'MT': 23, 'WV': 34, 'MS': 27, 'NJ': 40, 'HI': 18, 'VA': 40, 'OH': 65, 'DE': 7, 'SC': 48, 'ID': 20, 'CT': 19, 'KY': 50, 'RI': 3, 'NY': 60, 'GA': 73, 'FL': 223, 'WI': 39, 'KS': 34, 'AR': 28, 'AL': 49, 'TX': 298, 'NH': 9, 'MA': 32, 'MN': 39, 'AZ': 165, 'VT': 4, 'MD': 30, 'CO': 88, 'NE': 21}\n",
      "Totals {'WA': 107, 'NM': 76, 'PN': 1, 'WY': 14, 'OK': 107, 'OR': 65, 'TX': 390, 'IA': 25, 'TN': 89, 'PA': 99, 'LA': 88, 'UT': 42, 'CA': 716, 'ME': 15, 'ND': 6, 'DC': 20, 'SD': 13, 'NC': 130, 'MO': 100, 'AK': 17, 'IN': 68, 'MI': 75, 'MT': 23, 'WV': 38, 'MS': 47, 'NJ': 70, 'HI': 19, 'VA': 71, 'OH': 117, 'DE': 11, 'SC': 72, 'IL': 115, 'CT': 23, 'KY': 61, 'RI': 5, 'NY': 113, 'ID': 20, 'GA': 124, 'FL': 348, 'WI': 54, 'KS': 43, 'AR': 37, 'AL': 85, 'NV': 64, 'NH': 9, 'MA': 44, 'MN': 50, 'AZ': 180, 'VT': 4, 'MD': 86, 'CO': 98, 'NE': 27}\n"
     ]
    }
   ],
   "source": [
    "import statistics as st\n",
    "import matplotlib.pyplot as plt\n",
    "import numpy as np\n",
    "import scipy.stats as ss\n",
    "% matplotlib inline\n",
    "PVC = open(\"PoliceViolence_city.csv\", \"r\", errors=\"ignore\");\n",
    "KBP = open(\"KilledByPolice.csv\", \"r\", errors=\"ignore\");\n",
    "\n",
    "\n",
    "cur = [];\n",
    "cur2 = [];\n",
    "for aa in PVC:\n",
    "    cur.append(aa);\n",
    "for ab in KBP:\n",
    "    cur2.append(ab);\n",
    "del cur2[0];\n",
    "del cur[0];\n",
    "for ba in range(len(cur)):\n",
    "    cur[ba] = cur[ba].split(\",\");\n",
    "for bb in range(len(cur2)):\n",
    "    cur2[bb] = cur2[bb].split(\",\");\n",
    "\n",
    "\n",
    "#VCR = violent crime rate\n",
    "sacrob = {};\n",
    "sacroo = {};\n",
    "sacrot = {};\n",
    "\n",
    "for c in range(len(cur2)):\n",
    "    if cur2[c][7] not in sacrob and cur2[c][3] == \"Black\":\n",
    "        sacrob[cur2[c][7]] = 1;\n",
    "    elif cur2[c][7] in sacrob and cur2[c][3] == \"Black\":\n",
    "        sacrob[cur2[c][7]]+=1;\n",
    "    elif cur2[c][7] not in sacrob:\n",
    "        sacrob[cur2[c][7]] = 0;\n",
    "        \n",
    "for d in range(len(cur2)):\n",
    "    if cur2[d][7] not in sacroo and cur2[d][3] != \"Black\":\n",
    "        sacroo[cur2[d][7]] = 1;\n",
    "    elif cur2[d][7] in sacroo and cur2[d][3] != \"Black\":\n",
    "        sacroo[cur2[d][7]]+=1;\n",
    "    \n",
    "for e in range(len(cur2)):\n",
    "    if cur2[e][7] not in sacrot:\n",
    "        sacrot[cur2[e][7]] = 1;\n",
    "    elif cur2[e][7] in sacrot:\n",
    "        sacrot[cur2[e][7]]+=1;\n",
    "\n",
    "\n",
    "print(\"Black kills by state:\", sacrob);\n",
    "print(\"Other kills by state\", sacroo);\n",
    "print(\"Totals\", sacrot);"
   ]
  },
  {
   "cell_type": "code",
   "execution_count": null,
   "metadata": {
    "collapsed": true
   },
   "outputs": [],
   "source": []
  }
 ],
 "metadata": {
  "kernelspec": {
   "display_name": "Python [Root]",
   "language": "python",
   "name": "Python [Root]"
  },
  "language_info": {
   "codemirror_mode": {
    "name": "ipython",
    "version": 3
   },
   "file_extension": ".py",
   "mimetype": "text/x-python",
   "name": "python",
   "nbconvert_exporter": "python",
   "pygments_lexer": "ipython3",
   "version": "3.5.2"
  }
 },
 "nbformat": 4,
 "nbformat_minor": 0
}
