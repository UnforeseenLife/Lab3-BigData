{
 "cells": [
  {
   "cell_type": "markdown",
   "metadata": {},
   "source": [
    "<h2> Lab 3: <br>\n",
    "Analysis of Race Based Police Homicide Rate Across the Country</h2>\n",
    "\n",
    "Code created by: Andrew Gladden and David Kahn <br>\n",
    "Analysis written by: David Kahn <br>\n",
    "10/20/2016\n",
    "<br>\n",
    "<br>\n",
    "Our goal for this lab was to answer a few essential questions. Part 1 pertains to the questions of: Does a higher rate of violent crime make it more likely for police to kill people?  Does a larger black population by percentage make it more likely for police to kill black people? Both of these questions are answered through the use of a correlation coefficient 'r-value' and a graph that displays the relationships between each variable. An analysis of this data could be used for the prediction of police killings against armed or unarmed civilians to better our law enforcement and give better training to officers. Part 2 pertains to the questions of - In which state are you most likely to be killed by police if you are of any race?  In which state are you most likely to be killed by police if you are black? - both of which being related to the total killings by police officers by state, and how likely someone is to be killed out of the total number of people in their respective race group. This could be useful for determining what states may need better police training compaired to other states.\n",
    "<br>\n",
    "<br>\n",
    "<br>\n",
    "\n",
    "### Part 1:\n"
   ]
  },
  {
   "cell_type": "code",
   "execution_count": 6,
   "metadata": {
    "collapsed": false
   },
   "outputs": [
    {
     "name": "stdout",
     "output_type": "stream",
     "text": [
      "The r-value is: 0.527618635964\n"
     ]
    },
    {
     "data": {
      "image/png": "[encoded data removed]",
      "text/plain": [
       "<matplotlib.figure.Figure at 0x2d093084978>"
      ]
     },
     "metadata": {},
     "output_type": "display_data"
    }
   ],
   "source": [
    "import statistics as st\n",
    "import matplotlib.patches as pch\n",
    "import matplotlib.pyplot as plt\n",
    "import matplotlib.cm as cm\n",
    "import numpy as np\n",
    "import scipy.stats as ss\n",
    "% matplotlib inline\n",
    "\n",
    "PVC = open(\"PoliceViolence_city.csv\", \"r\", errors=\"ignore\");\n",
    "KBP = open(\"KilledByPolice.csv\", \"r\", errors=\"ignore\");\n",
    "\n",
    "cur = [];\n",
    "cur2 = [];\n",
    "\n",
    "for aa in PVC:\n",
    "    cur.append(aa);\n",
    "for ab in KBP:\n",
    "    cur2.append(ab);\n",
    "\n",
    "del cur2[0];\n",
    "del cur[0];\n",
    "\n",
    "for ba in range(len(cur)):\n",
    "    cur[ba] = cur[ba].split(\",\");\n",
    "for bb in range(len(cur2)):\n",
    "    cur2[bb] = cur2[bb].split(\",\");\n",
    "\n",
    "\n",
    "#VCR = violent crime rate\n",
    "vcr = [];\n",
    "vcrc = [];\n",
    "bcrc = [];\n",
    "peopler = [];\n",
    "phrblack = [];\n",
    "    \n",
    "\n",
    "for d in range(len(cur)):\n",
    "    vcr.append(float(cur[d][17]));\n",
    "    vcrc.append(float(cur[d][19]));\n",
    "    peopler.append((float(cur[d][6])/float(cur[d][5]))*100);\n",
    "    phrblack.append(float(cur[d][21]));\n",
    "\n",
    "reg1 = ss.linregress(vcr, vcrc);\n",
    "\n",
    "print(\"The r-value is:\", reg1[2]);\n",
    "for e in range(len(vcr)):\n",
    "    #colr = np.random.rand(3);\n",
    "    colr = [0.123456, 0.54321, 0.98327];\n",
    "    #c = color=colr\n",
    "    #print(colr)\n",
    "    #rgb_to_name(colr[0], colr[1], colr[2]);\n",
    "    #rgb_percent_to_name(colr, spec='css3')\n",
    "    #print(colored(bcrc[e], c));\n",
    "    graphy = plt.scatter(vcr[e], vcrc[e], color=colr);\n",
    "    #leg = pch.Patch(color=colr, label=bcrc[e]);\n",
    "    #plt.legend(handles = [leg], bbox_to_anchor=(1.05, 1), loc=2, borderaxespad=1);\n",
    "    #plt.annotate(vcr[e], vcrc[e]);\n",
    "    \n"
   ]
  },
  {
   "cell_type": "markdown",
   "metadata": {},
   "source": [
    "The previous graph displays the violent crime rate vs the number of police killings. As it can been seen, as one increases, the other tends to increase as well. This means that as the violent crime rate increases in a city, the number of police killings tends to also increase; howevere, this is not always true, there is some deviation. There could be countless different reasons for this relatively strong correlation (a correlation coefficient of 0.53), however, some that first come to mind are: a simple increase in population in a city could increase the total amount of violent crimes and thus also the number of police killings amongst all races, or that there could just be a simple increase in violent crimes due to other factors possibly making the police use more... defined means of stopping potential crimes (ie. drawing their pistol instead of a taser.) One thing to be noted, is that the strong correlation exists when the numbers are not on the more extreme end of their specturm. Looking carefully at the graph, it can be seen that there is a large cluster towards the origin that tends to fade out getting less dense as the values increase. However, When looking closely at the graph, it can be seen that there are approximately 2 branches steming from the main data group. One of these branches increases along one axis by a significant amount more than the other axis, and vice verse for the remaining branch.\n",
    "<br>\n",
    "<br>\n",
    "<br>\n",
    "<br>"
   ]
  },
  {
   "cell_type": "code",
   "execution_count": 17,
   "metadata": {
    "collapsed": false
   },
   "outputs": [
    {
     "name": "stdout",
     "output_type": "stream",
     "text": [
      "The r-value is: -0.263231250181\n"
     ]
    },
    {
     "data": {
      "image/png": "[encoded data removed]",
      "text/plain": [
       "<matplotlib.figure.Figure at 0x2d0942d4828>"
      ]
     },
     "metadata": {},
     "output_type": "display_data"
    }
   ],
   "source": [
    "colr = np.random.rand(3);\n",
    "reg2 = ss.linregress(peopler, phrblack);\n",
    "\n",
    "print(\"The r-value is:\", reg2[2]);\n",
    "\n",
    "for f in range(len(peopler)):\n",
    "    plt.scatter(peopler[f], phrblack[f], color = colr);\n",
    "    "
   ]
  },
  {
   "cell_type": "markdown",
   "metadata": {
    "collapsed": true
   },
   "source": [
    "This graph shows the population of black people by percentage versus the number of black people killed by police officers. As it can be seen, the two variables are inversely proportional, meaning that when one goes up, the other will tend to go down. This is also reinforced by the r-value of -0.26 we received when plotting a linear fit to the data.\n",
    "\n",
    "One thing that is shown in the data, is that if there is a smaller percentage of black people out of the total population, then there tends to be an increase in police killings of black people. A reason for this could be that due to the smaller black population percentage, there might be less of the total population that takes a stand against attacks possibly leading police to be more trigger happy in situations that might not otherwise need it. This also could work the other way around as well, where a larger percentage of black people in a population would form more of a force against killings of black people by police officers.\n"
   ]
  }
 ],
 "metadata": {
  "anaconda-cloud": {},
  "kernelspec": {
   "display_name": "Python [Root]",
   "language": "python",
   "name": "Python [Root]"
  },
  "language_info": {
   "codemirror_mode": {
    "name": "ipython",
    "version": 3
   },
   "file_extension": ".py",
   "mimetype": "text/x-python",
   "name": "python",
   "nbconvert_exporter": "python",
   "pygments_lexer": "ipython3",
   "version": "3.5.2"
  }
 },
 "nbformat": 4,
 "nbformat_minor": 0
}
