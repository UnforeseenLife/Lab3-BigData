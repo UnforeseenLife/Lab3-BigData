{
 "cells": [
  {
   "cell_type": "code",
   "execution_count": 1,
   "metadata": {
    "collapsed": false
   },
   "outputs": [
    {
     "name": "stdout",
     "output_type": "stream",
     "text": [
      "{'Nevada': ['Henderson', 'Las Vegas', 'North Las Vegas', 'Reno'], 'Kansas': ['Wichita'], 'Tennessee': ['Memphis', 'Nashville'], 'Kentucky': ['Lexington', 'Louisville'], 'Alaska': ['Anchorage'], 'Texas': ['Arlington', 'Austin', 'Corpus Christi', 'Dallas', 'El Paso', 'Fort Worth', 'Garland', 'Houston', 'Irving', 'Laredo', 'Lubbock', 'Plano', 'San Antonio'], 'Georgia': ['Atlanta'], 'New Jersey': ['Jersey City', 'Newark'], 'District of Columbia': ['Washington'], 'Wisconsin': ['Madison', 'Milwaukee'], 'Oregon': ['Portland'], 'Louisiana': ['Baton Rouge', 'New Orleans'], 'New York': ['Buffalo', 'New York', 'Rochester'], 'North Carolina': ['Charlotte', 'Durham', 'Greensboro', 'Raleigh', 'Winston-Salem'], 'Massachusetts': ['Boston'], 'Indiana': ['Fort Wayne', 'Indianapolis'], 'Oklahoma': ['Oklahoma City', 'Tulsa'], 'Florida': ['Hialeah', 'Jacksonville', 'Miami', 'Orlando', 'St. Petersburg', 'Tampa'], 'New Mexico': ['Albuquerque'], 'Maryland': ['Baltimore'], 'Minnesota': ['St. Paul'], 'Minneapolis': ['Minneapolis'], 'Ohio': ['Cincinnati', 'Cleveland', 'Columbus', 'Toledo'], 'Washington': ['Seattle', 'Spokane'], 'California': ['Anaheim', 'Bakersfield', 'Chula Vista', 'Fremont', 'Fresno', 'Irvine', 'Long Beach', 'Los Angeles', 'Oakland', 'Riverside', 'Sacramento', 'San Bernardino', 'San Diego', 'San Francisco', 'San Jose', 'Santa Ana', 'Stockton'], 'Missouri': ['Kansas City Missouri', 'St. Louis'], 'Nebraska': ['Lincoln', 'Omaha'], 'Pennsylvania': ['Philadelphia', 'Pittsburgh'], 'Colorado': ['Aurora', 'Colorado Springs', 'Denver'], 'Illinois': ['Chicago'], 'Virginia': ['Chesapeake', 'Norfolk', 'Virginia Beach'], 'Hawaii': ['Honolulu'], 'Michigan': ['Detroit'], 'Alabama': ['Birmingham'], 'Arizona': ['Chandler', 'Glendale', 'Mesa', 'Phoenix', 'Scottsdale', 'Tucson']}\n",
      "\n",
      "Beoples: 12640609\n",
      "Weoples: 24001646\n",
      "KBP/KWP; 1179 1179\n",
      "White ratio 0.5\n",
      "Black ratio 0.5\n"
     ]
    }
   ],
   "source": [
    "import statistics as st\n",
    "import matplotlib.pyplot as plt\n",
    "import numpy as np\n",
    "import scipy.stats as ss\n",
    "% matplotlib inline\n",
    "PVC = open(\"PoliceViolence_city.csv\", \"r\", errors=\"ignore\");\n",
    "KBP = open(\"KilledByPolice.csv\", \"r\", errors=\"ignore\");\n",
    "\n",
    "cur = [];\n",
    "cur2 = [];\n",
    "\n",
    "for aa in PVC:\n",
    "    cur.append(aa);\n",
    "for ab in KBP:\n",
    "    cur2.append(ab);\n",
    "\n",
    "del cur2[0];\n",
    "del cur[0];\n",
    "\n",
    "for ba in range(len(cur)):\n",
    "    cur[ba] = cur[ba].split(\",\");\n",
    "for bb in range(len(cur2)):\n",
    "    cur2[bb] = cur2[bb].split(\",\");\n",
    "\n",
    "\n",
    "beople = 0;\n",
    "weople = 0;\n",
    "kbp = 0;\n",
    "kwp = 0;\n",
    "\n",
    "for ca in range(len(cur2)):\n",
    "    if cur2[ca][3] == \"Black\":\n",
    "        kbp=kbp+1;\n",
    "    elif cur2[ca][3] == \"White\":\n",
    "        kwp=kbp+1;\n",
    "\n",
    "for cb in range(len(cur)):\n",
    "    beople+=int(cur[cb][6]);\n",
    "    weople+=int(cur[cb][7]);\n",
    "#VCR = violent crime rate\n",
    "tkills = [];\n",
    "bkills = [];\n",
    "merge = {};\n",
    "vcr = [];\n",
    "vcrc = [];\n",
    "bcrc = [];\n",
    "\n",
    "for a in range(len(cur)):\n",
    "    tkills.append(int(cur[a][3]));\n",
    "    bkills.append(int(cur[a][4]));\n",
    "    \n",
    "    if cur[a][0] not in merge:\n",
    "        merge[cur[a][0]]=[cur[a][1]];\n",
    "    else:\n",
    "        merge[cur[a][0]].append(cur[a][1]);\n",
    "\n",
    "\n",
    "for d in range(len(cur)):\n",
    "    vcr.append(float(cur[d][5]));\n",
    "    vcrc.append(float(cur[d][3]));\n",
    "    bcrc.append(float(cur[d][4]));\n",
    "\n",
    "\n",
    "print(merge);\n",
    "print();\n",
    "print(\"Beoples:\", beople);\n",
    "print(\"Weoples:\", weople);\n",
    "print(\"KBP/KWP;\", kbp, kwp);\n",
    "print(\"White ratio\", kwp/(kbp+kwp));\n",
    "print(\"Black ratio\", kbp/(kbp+kwp));\n"
   ]
  },
  {
   "cell_type": "code",
   "execution_count": null,
   "metadata": {
    "collapsed": true
   },
   "outputs": [],
   "source": []
  }
 ],
 "metadata": {
  "anaconda-cloud": {},
  "kernelspec": {
   "display_name": "Python [Root]",
   "language": "python",
   "name": "Python [Root]"
  },
  "language_info": {
   "codemirror_mode": {
    "name": "ipython",
    "version": 3
   },
   "file_extension": ".py",
   "mimetype": "text/x-python",
   "name": "python",
   "nbconvert_exporter": "python",
   "pygments_lexer": "ipython3",
   "version": "3.5.2"
  }
 },
 "nbformat": 4,
 "nbformat_minor": 0
}
